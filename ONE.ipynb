{
 "cells": [
  {
   "cell_type": "code",
   "execution_count": 1,
   "id": "f019cfc7-ed21-4f15-b45e-ad8f3358868a",
   "metadata": {},
   "outputs": [
    {
     "name": "stdout",
     "output_type": "stream",
     "text": [
      "Hello Happy\n"
     ]
    }
   ],
   "source": [
    "print(\"Hello Happy\")"
   ]
  },
  {
   "cell_type": "code",
   "execution_count": 3,
   "id": "fead7609-2dd1-4f4e-9927-4a38d9df8c93",
   "metadata": {},
   "outputs": [
    {
     "name": "stdout",
     "output_type": "stream",
     "text": [
      "5\n"
     ]
    }
   ],
   "source": [
    "print(5)"
   ]
  },
  {
   "cell_type": "markdown",
   "id": "75dec2b9-9597-4394-b3ce-2b0d3e09bc03",
   "metadata": {},
   "source": [
    "SHIFT + ENTER"
   ]
  },
  {
   "cell_type": "markdown",
   "id": "d3eaea8a-4fec-43f1-828a-bfa38bb62677",
   "metadata": {},
   "source": [
    "## OR USE RUN BUTTON"
   ]
  },
  {
   "cell_type": "markdown",
   "id": "af71a364-a53f-41ce-abdd-487266f69791",
   "metadata": {},
   "source": [
    "### OR USE RUN BUTTON"
   ]
  },
  {
   "cell_type": "code",
   "execution_count": 4,
   "id": "1c0e3f5e-9c4c-4d30-9f2c-0fdc723b20ec",
   "metadata": {},
   "outputs": [
    {
     "data": {
      "text/plain": [
       "18"
      ]
     },
     "execution_count": 4,
     "metadata": {},
     "output_type": "execute_result"
    }
   ],
   "source": [
    "A= 6\n",
    "B= 12\n",
    "A+B"
   ]
  },
  {
   "cell_type": "raw",
   "id": "3c67e5b2-6b90-46fa-a637-51757c920679",
   "metadata": {},
   "source": [
    "A= 6\n",
    "B= 12\n",
    "A+B"
   ]
  },
  {
   "cell_type": "code",
   "execution_count": 6,
   "id": "81c82608-d5a2-41ac-8c69-fd7d35f6d215",
   "metadata": {
    "scrolled": true
   },
   "outputs": [
    {
     "data": {
      "text/plain": [
       "'C:\\\\Users\\\\abehe\\\\PYTHONINTERN'"
      ]
     },
     "execution_count": 6,
     "metadata": {},
     "output_type": "execute_result"
    }
   ],
   "source": [
    "pwd"
   ]
  },
  {
   "cell_type": "code",
   "execution_count": 2,
   "id": "b69a8126-94ca-4347-80a0-c83f2c9bef16",
   "metadata": {},
   "outputs": [
    {
     "name": "stdout",
     "output_type": "stream",
     "text": [
      "The sum is = 12\n"
     ]
    }
   ],
   "source": [
    "A=4\n",
    "B=8\n",
    "U= A+B\n",
    "print(\"The sum is =\",U)"
   ]
  },
  {
   "cell_type": "code",
   "execution_count": 3,
   "id": "c67a54d3-7d9f-44a1-ad46-c912d1420014",
   "metadata": {},
   "outputs": [
    {
     "name": "stdout",
     "output_type": "stream",
     "text": [
      "The sum is = 12\n"
     ]
    },
    {
     "data": {
      "text/plain": [
       "12"
      ]
     },
     "execution_count": 3,
     "metadata": {},
     "output_type": "execute_result"
    }
   ],
   "source": [
    "A=4\n",
    "B=8\n",
    "U= A+B\n",
    "V=print(\"The sum is =\",U)\n",
    "U"
   ]
  },
  {
   "cell_type": "code",
   "execution_count": 6,
   "id": "2f297f0a-cc18-499a-b2df-fab854d178dd",
   "metadata": {},
   "outputs": [
    {
     "data": {
      "text/plain": [
       "12"
      ]
     },
     "execution_count": 6,
     "metadata": {},
     "output_type": "execute_result"
    }
   ],
   "source": [
    "A=12\n",
    "A"
   ]
  },
  {
   "cell_type": "code",
   "execution_count": 7,
   "id": "1c35905f-7f3a-4e80-a435-8e462ed3b181",
   "metadata": {},
   "outputs": [
    {
     "data": {
      "text/plain": [
       "int"
      ]
     },
     "execution_count": 7,
     "metadata": {},
     "output_type": "execute_result"
    }
   ],
   "source": [
    "w= type(A)\n",
    "w"
   ]
  },
  {
   "cell_type": "code",
   "execution_count": 8,
   "id": "e066b9ee-edad-42e8-9d27-e57df7837108",
   "metadata": {},
   "outputs": [
    {
     "name": "stdout",
     "output_type": "stream",
     "text": [
      "<class 'int'>\n"
     ]
    }
   ],
   "source": [
    "print(w)"
   ]
  },
  {
   "cell_type": "code",
   "execution_count": 9,
   "id": "06d749da-87d0-4154-a07a-be61d0850d17",
   "metadata": {},
   "outputs": [
    {
     "name": "stdout",
     "output_type": "stream",
     "text": [
      "['False', 'None', 'True', 'and', 'as', 'assert', 'async', 'await', 'break', 'class', 'continue', 'def', 'del', 'elif', 'else', 'except', 'finally', 'for', 'from', 'global', 'if', 'import', 'in', 'is', 'lambda', 'nonlocal', 'not', 'or', 'pass', 'raise', 'return', 'try', 'while', 'with', 'yield']\n"
     ]
    }
   ],
   "source": [
    "import keyword\n",
    "keywords= keyword.kwlist\n",
    "print(keywords)"
   ]
  },
  {
   "cell_type": "code",
   "execution_count": 10,
   "id": "15df4391-947b-438c-945a-5ab918ee01d4",
   "metadata": {},
   "outputs": [
    {
     "data": {
      "text/plain": [
       "35"
      ]
     },
     "execution_count": 10,
     "metadata": {},
     "output_type": "execute_result"
    }
   ],
   "source": [
    "len(keywords)\n"
   ]
  },
  {
   "cell_type": "code",
   "execution_count": 11,
   "id": "f7d528ac-a9b3-4eaa-87e5-a8c78f69c198",
   "metadata": {},
   "outputs": [
    {
     "name": "stdin",
     "output_type": "stream",
     "text": [
      "ENTER YOUR COMPANY- happy\n"
     ]
    },
    {
     "name": "stdout",
     "output_type": "stream",
     "text": [
      "MY COMPANY NAME IS- happy\n"
     ]
    }
   ],
   "source": [
    "b= input(\"ENTER YOUR COMPANY-\")\n",
    "print(\"MY COMPANY NAME IS-\",b)"
   ]
  },
  {
   "cell_type": "code",
   "execution_count": 12,
   "id": "8852ccd5-b047-457e-af75-0784b988636e",
   "metadata": {},
   "outputs": [
    {
     "name": "stdout",
     "output_type": "stream",
     "text": [
      "happy MY COMPANY NAME IS-\n"
     ]
    }
   ],
   "source": [
    "print(b,\"MY COMPANY NAME IS-\")"
   ]
  },
  {
   "cell_type": "code",
   "execution_count": 14,
   "id": "78b2a1da-9eb3-4022-96d8-2f74cd298733",
   "metadata": {},
   "outputs": [
    {
     "name": "stdout",
     "output_type": "stream",
     "text": [
      "my name is happy and roll no. is 12\n"
     ]
    }
   ],
   "source": [
    "print(\"my name is {} and roll no. is {}\".format(b,A))"
   ]
  },
  {
   "cell_type": "code",
   "execution_count": 15,
   "id": "50e9654b-3db3-4fb5-9342-f2099f4106ea",
   "metadata": {},
   "outputs": [],
   "source": [
    "del (A)\n"
   ]
  },
  {
   "cell_type": "code",
   "execution_count": 16,
   "id": "d8dd5bb7-f739-45fb-83f3-900133426cb5",
   "metadata": {},
   "outputs": [
    {
     "ename": "NameError",
     "evalue": "name 'A' is not defined",
     "output_type": "error",
     "traceback": [
      "\u001b[1;31m---------------------------------------------------------------------------\u001b[0m",
      "\u001b[1;31mNameError\u001b[0m                                 Traceback (most recent call last)",
      "Cell \u001b[1;32mIn[16], line 1\u001b[0m\n\u001b[1;32m----> 1\u001b[0m A\n",
      "\u001b[1;31mNameError\u001b[0m: name 'A' is not defined"
     ]
    }
   ],
   "source": [
    "A"
   ]
  },
  {
   "cell_type": "code",
   "execution_count": null,
   "id": "548b1ff2-dfd3-454f-9d06-8f45e59e93bc",
   "metadata": {},
   "outputs": [],
   "source": []
  }
 ],
 "metadata": {
  "kernelspec": {
   "display_name": "Python 3 (ipykernel)",
   "language": "python",
   "name": "python3"
  },
  "language_info": {
   "codemirror_mode": {
    "name": "ipython",
    "version": 3
   },
   "file_extension": ".py",
   "mimetype": "text/x-python",
   "name": "python",
   "nbconvert_exporter": "python",
   "pygments_lexer": "ipython3",
   "version": "3.11.7"
  }
 },
 "nbformat": 4,
 "nbformat_minor": 5
}
