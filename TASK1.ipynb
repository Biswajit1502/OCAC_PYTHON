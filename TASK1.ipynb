{
 "cells": [
  {
   "cell_type": "code",
   "execution_count": 1,
   "id": "412de736-f2da-4596-85f5-52fe9b027829",
   "metadata": {},
   "outputs": [
    {
     "name": "stdin",
     "output_type": "stream",
     "text": [
      "Enter the value of a:  fygg\n"
     ]
    },
    {
     "ename": "ValueError",
     "evalue": "invalid literal for int() with base 10: 'fygg'",
     "output_type": "error",
     "traceback": [
      "\u001b[1;31m---------------------------------------------------------------------------\u001b[0m",
      "\u001b[1;31mValueError\u001b[0m                                Traceback (most recent call last)",
      "Cell \u001b[1;32mIn[1], line 1\u001b[0m\n\u001b[1;32m----> 1\u001b[0m a \u001b[38;5;241m=\u001b[39m \u001b[38;5;28mint\u001b[39m(\u001b[38;5;28minput\u001b[39m(\u001b[38;5;124m\"\u001b[39m\u001b[38;5;124mEnter the value of a: \u001b[39m\u001b[38;5;124m\"\u001b[39m))\n",
      "\u001b[1;31mValueError\u001b[0m: invalid literal for int() with base 10: 'fygg'"
     ]
    }
   ],
   "source": [
    "a = int(input(\"Enter the value of a: \"))"
   ]
  },
  {
   "cell_type": "code",
   "execution_count": 3,
   "id": "670ab3b1-1a97-4acc-8c78-2a4f88d751a0",
   "metadata": {},
   "outputs": [
    {
     "name": "stdin",
     "output_type": "stream",
     "text": [
      "Enter the value of a:  12\n",
      "Enter the value of b:  15\n"
     ]
    },
    {
     "name": "stdout",
     "output_type": "stream",
     "text": [
      "ADD: 27\n",
      "Sum: 27, Diff: -3, Mult:180, Div:0.8, Mod: 12\n"
     ]
    }
   ],
   "source": [
    "a = int(input(\"Enter the value of a: \"))\n",
    "b=int(input(\"Enter the value of b: \"))\n",
    "add=a+b\n",
    "sub=a-b\n",
    "mult=a*b\n",
    "div=a/b\n",
    "mod=a%b\n",
    "print(\"ADD:\", add)\n",
    "print(\"Sum: {0}, Diff: {1}, Mult:{2}, Div:{3}, Mod: {4}\".format(add, sub, mult, div,mod))"
   ]
  },
  {
   "cell_type": "code",
   "execution_count": 1,
   "id": "c83e739d-0f3e-4f0d-a24f-a1b5c71a75cd",
   "metadata": {},
   "outputs": [
    {
     "name": "stdout",
     "output_type": "stream",
     "text": [
      "My name is Biswajit\n"
     ]
    }
   ],
   "source": [
    "A= \"My name is Biswajit\"\n",
    "print(A)"
   ]
  },
  {
   "cell_type": "code",
   "execution_count": 2,
   "id": "ba9a04da-0499-4c87-9828-052ecc6286f6",
   "metadata": {},
   "outputs": [
    {
     "name": "stdout",
     "output_type": "stream",
     "text": [
      "My na\n"
     ]
    }
   ],
   "source": [
    "print(A[0:5])"
   ]
  },
  {
   "cell_type": "code",
   "execution_count": 3,
   "id": "a329c20b-8872-4a54-b0bc-36702f1a9bac",
   "metadata": {},
   "outputs": [
    {
     "name": "stdout",
     "output_type": "stream",
     "text": [
      " na\n"
     ]
    }
   ],
   "source": [
    "print(A[2\n",
    "    :5])"
   ]
  },
  {
   "cell_type": "code",
   "execution_count": 4,
   "id": "ea5abf0d-c92f-4c8b-a553-c90c454772a7",
   "metadata": {},
   "outputs": [
    {
     "data": {
      "text/plain": [
       "'ame is Biswaji'"
      ]
     },
     "execution_count": 4,
     "metadata": {},
     "output_type": "execute_result"
    }
   ],
   "source": [
    "A[4:-1]"
   ]
  },
  {
   "cell_type": "code",
   "execution_count": 5,
   "id": "d4355713-fbff-4725-af68-7254c899ee2e",
   "metadata": {},
   "outputs": [
    {
     "data": {
      "text/plain": [
       "'asw'"
      ]
     },
     "execution_count": 5,
     "metadata": {},
     "output_type": "execute_result"
    }
   ],
   "source": [
    "A[4:-1:5]"
   ]
  },
  {
   "cell_type": "code",
   "execution_count": 6,
   "id": "205b5fd2-f8b3-4475-a07e-ab220c39d16f",
   "metadata": {},
   "outputs": [
    {
     "data": {
      "text/plain": [
       "'tijawsiB si eman'"
      ]
     },
     "execution_count": 6,
     "metadata": {},
     "output_type": "execute_result"
    }
   ],
   "source": [
    "A[-1:2:-1]"
   ]
  },
  {
   "cell_type": "code",
   "execution_count": 7,
   "id": "793b3d5a-f893-4936-b695-86f56d9d7bc2",
   "metadata": {},
   "outputs": [
    {
     "data": {
      "text/plain": [
       "'tijawsiB si eman yM'"
      ]
     },
     "execution_count": 7,
     "metadata": {},
     "output_type": "execute_result"
    }
   ],
   "source": [
    "A[::-1]"
   ]
  },
  {
   "cell_type": "code",
   "execution_count": 8,
   "id": "9d6ab766-d5ec-4d97-a055-04bd194e4ba6",
   "metadata": {},
   "outputs": [
    {
     "data": {
      "text/plain": [
       "'My name is Biswajit'"
      ]
     },
     "execution_count": 8,
     "metadata": {},
     "output_type": "execute_result"
    }
   ],
   "source": [
    "A[::1]"
   ]
  },
  {
   "cell_type": "code",
   "execution_count": null,
   "id": "f7cec888-b539-42a8-a514-3d89434c1b30",
   "metadata": {},
   "outputs": [],
   "source": []
  }
 ],
 "metadata": {
  "kernelspec": {
   "display_name": "Python 3 (ipykernel)",
   "language": "python",
   "name": "python3"
  },
  "language_info": {
   "codemirror_mode": {
    "name": "ipython",
    "version": 3
   },
   "file_extension": ".py",
   "mimetype": "text/x-python",
   "name": "python",
   "nbconvert_exporter": "python",
   "pygments_lexer": "ipython3",
   "version": "3.11.7"
  }
 },
 "nbformat": 4,
 "nbformat_minor": 5
}
