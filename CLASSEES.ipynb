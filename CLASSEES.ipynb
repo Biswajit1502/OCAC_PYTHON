{
 "cells": [
  {
   "cell_type": "code",
   "execution_count": 1,
   "id": "9c1560b3-c1b9-49c0-ad4b-2494ac3c18ce",
   "metadata": {},
   "outputs": [],
   "source": [
    "class myclass:\n",
    "    x=5"
   ]
  },
  {
   "cell_type": "code",
   "execution_count": 11,
   "id": "446b1334-e877-4305-800c-1739d051a849",
   "metadata": {},
   "outputs": [
    {
     "name": "stdout",
     "output_type": "stream",
     "text": [
      "5\n"
     ]
    }
   ],
   "source": [
    "p1=myclass()\n",
    "print(p1.x)"
   ]
  },
  {
   "cell_type": "code",
   "execution_count": 13,
   "id": "5b9497c8-5eac-47a0-8bb9-e3b64ee59afb",
   "metadata": {},
   "outputs": [],
   "source": [
    "class Person:\n",
    "    def __init__(my,name,age):\n",
    "        my.name = name\n",
    "        my.age = age  "
   ]
  },
  {
   "cell_type": "code",
   "execution_count": 14,
   "id": "f06bafc8-fbe4-4687-9a0c-a76c0d6e4011",
   "metadata": {},
   "outputs": [
    {
     "name": "stdout",
     "output_type": "stream",
     "text": [
      "Biswajit\n",
      "22\n"
     ]
    }
   ],
   "source": [
    "R = Person(\"Biswajit\",22)\n",
    "print(R.name)\n",
    "print(R.age)"
   ]
  },
  {
   "cell_type": "code",
   "execution_count": 16,
   "id": "a8afcec4-e2dc-480d-a2e9-16d739311cec",
   "metadata": {},
   "outputs": [
    {
     "name": "stdout",
     "output_type": "stream",
     "text": [
      "Biswajit\n"
     ]
    }
   ],
   "source": [
    "class student:\n",
    "    def __init__(r,name):\n",
    "        r.name = name     \n",
    "R = student (name='Biswajit')\n",
    "print(R.name)"
   ]
  },
  {
   "cell_type": "code",
   "execution_count": 17,
   "id": "02aa8789-e087-41ae-995e-23f8c826b484",
   "metadata": {},
   "outputs": [],
   "source": [
    "class student:\n",
    "    def __init__(r,name):\n",
    "        r.name = name\n",
    "R = student(name ='Happy')\n",
    "B = student(name ='Biswajit')"
   ]
  },
  {
   "cell_type": "code",
   "execution_count": 18,
   "id": "9e251c27-ec67-4f87-8f47-e631925a36dc",
   "metadata": {},
   "outputs": [
    {
     "name": "stdout",
     "output_type": "stream",
     "text": [
      "Happy\n",
      "Biswajit\n"
     ]
    }
   ],
   "source": [
    "print(R.name)\n",
    "print(B.name)"
   ]
  },
  {
   "cell_type": "code",
   "execution_count": 19,
   "id": "8b5528e4-b0e7-4957-a547-4f9f98e79ec5",
   "metadata": {},
   "outputs": [
    {
     "name": "stdout",
     "output_type": "stream",
     "text": [
      "Happy\n",
      "22\n"
     ]
    }
   ],
   "source": [
    "class pi:\n",
    "    def __init__(r,name,age):\n",
    "        r.name=name\n",
    "        r.age=age\n",
    "p1=pi('Happy',22)\n",
    "print(p1.name)\n",
    "print(p1.age)"
   ]
  },
  {
   "cell_type": "code",
   "execution_count": 21,
   "id": "b8b6e3a4-2b46-4716-b0a3-c815d7ae7e42",
   "metadata": {},
   "outputs": [],
   "source": [
    "class student:\n",
    "    total=600 \n",
    "    def __init__(r,marks):\n",
    "        r.marks = marks \n",
    "        print('Initialized//////')\n",
    "    def findloss(r):\n",
    "        return r.total - r.marks \n",
    "    def findpercentage(r):\n",
    "        return (r.marks / r.total)*100"
   ]
  },
  {
   "cell_type": "code",
   "execution_count": 23,
   "id": "1d13495f-37bf-42d7-829f-71e8571c493f",
   "metadata": {},
   "outputs": [
    {
     "name": "stdout",
     "output_type": "stream",
     "text": [
      "Initialized//////\n",
      "Total marks: 600\n",
      "lost marks: 13\n",
      "Percentage is: 97.83333333333334\n",
      "Percentage is:97.83%\n"
     ]
    }
   ],
   "source": [
    "M = student(marks=587)\n",
    "print('Total marks:',M.total)\n",
    "print('lost marks:',M.findloss())\n",
    "print('Percentage is:',M.findpercentage())\n",
    "print('Percentage is:{:.2f}%'.format(M.findpercentage()))"
   ]
  },
  {
   "cell_type": "markdown",
   "id": "e68f0a74-ff79-421b-b9c8-228f4f988ccc",
   "metadata": {},
   "source": [
    "##### THE __INIT__ METHOD"
   ]
  },
  {
   "cell_type": "code",
   "execution_count": null,
   "id": "3ca4a79d-a072-43e5-8dc3-1f50bba278c8",
   "metadata": {},
   "outputs": [],
   "source": [
    "def __init__(r.marks):\n",
    "    r.marks=marks # Instance variable\n",
    "    print('Initialized....')"
   ]
  },
  {
   "cell_type": "markdown",
   "id": "b0a69cfc-c739-4377-9bef-bea9ea257360",
   "metadata": {},
   "source": [
    "#### BREAKDO    "
   ]
  },
  {
   "cell_type": "markdown",
   "id": "91d941aa-26ff-4410-8232-b1746b61b4a6",
   "metadata": {},
   "source": [
    "#### illustrate:"
   ]
  },
  {
   "cell_type": "code",
   "execution_count": 19,
   "id": "c0aa39d3-53df-47af-8da6-e1ba7e526097",
   "metadata": {},
   "outputs": [],
   "source": [
    "class student:\n",
    "    def __init__(r,marks):\n",
    "        r.marks = marks # Instance variable\n",
    "        print('Initialized........')"
   ]
  },
  {
   "cell_type": "code",
   "execution_count": null,
   "id": "13ac2fe5-5b9b-46cb-ae19-66e427d27a51",
   "metadata": {},
   "outputs": [],
   "source": []
  }
 ],
 "metadata": {
  "kernelspec": {
   "display_name": "Python 3 (ipykernel)",
   "language": "python",
   "name": "python3"
  },
  "language_info": {
   "codemirror_mode": {
    "name": "ipython",
    "version": 3
   },
   "file_extension": ".py",
   "mimetype": "text/x-python",
   "name": "python",
   "nbconvert_exporter": "python",
   "pygments_lexer": "ipython3",
   "version": "3.11.7"
  }
 },
 "nbformat": 4,
 "nbformat_minor": 5
}
